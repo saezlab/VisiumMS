{
 "cells": [
  {
   "cell_type": "code",
   "execution_count": 1,
   "metadata": {},
   "outputs": [],
   "source": [
    "from PIL import Image\n",
    "import os\n",
    "import numpy as np"
   ]
  },
  {
   "attachments": {},
   "cell_type": "markdown",
   "metadata": {},
   "source": [
    "Utility script to make serveral figures in one pdf, which I can share more easily."
   ]
  },
  {
   "attachments": {},
   "cell_type": "markdown",
   "metadata": {},
   "source": [
    "# Image Report"
   ]
  },
  {
   "cell_type": "code",
   "execution_count": 4,
   "metadata": {},
   "outputs": [],
   "source": [
    "current_dir = globals()['_dh'][0]\n",
    "for quality in [\"hires\", \"fullres\"]: \n",
    "    input_dir = current_dir / \"..\" / \"data\" / (\"image_features_\" + quality)\n",
    "    out_pdf = current_dir / \"..\" / \"out\" / (\"image_features_eval_\" + quality + \".pdf\")\n",
    "\n",
    "    files = [f for f in os.listdir(input_dir) if not f.startswith(\".\") and f.endswith(\".png\")]\n",
    "    samples = np.unique(np.array([f.split(\"_\")[0] for f in files]))\n",
    "\n",
    "    images = []\n",
    "    for sample in samples:\n",
    "        files_oi = [f for f in files if f.startswith(sample)]\n",
    "        for img in files_oi:\n",
    "            png = Image.open(input_dir / img)\n",
    "            png.load() # required for png.split()\n",
    "            background = Image.new(\"RGB\", png.size, (255, 255, 255))\n",
    "            background.paste(png, mask=png.split()[3]) # 3 is the alpha channel\n",
    "            images.append(background)\n",
    "\n",
    "    images[0].save(\n",
    "        out_pdf, \"PDF\" ,resolution=100.0, save_all=True, append_images=images[1:]\n",
    "    )"
   ]
  },
  {
   "attachments": {},
   "cell_type": "markdown",
   "metadata": {},
   "source": [
    "# QC Report"
   ]
  },
  {
   "cell_type": "code",
   "execution_count": 2,
   "metadata": {},
   "outputs": [],
   "source": [
    "current_dir = globals()['_dh'][0]\n",
    "for method in [\"cellbender\", \"cellranger\"]:\n",
    "    input_dir = current_dir / \"..\" / \"out\" / (method + \"_qc\")\n",
    "    out_pdf = current_dir / \"..\" / \"out\" / (method + \"_qc_out.pdf\")\n",
    "\n",
    "    images = []\n",
    "    files = [f for f in os.listdir(input_dir) if not f.startswith(\".\") and f.endswith(\".png\")]\n",
    "    for img in files:\n",
    "        png = Image.open(input_dir / img)\n",
    "        png.load() # required for png.split()\n",
    "        background = Image.new(\"RGB\", png.size, (255, 255, 255))\n",
    "        background.paste(png, mask=png.split()[3]) # 3 is the alpha channel\n",
    "        images.append(background)\n",
    "\n",
    "    images[0].save(\n",
    "        out_pdf, \"PDF\" ,resolution=100.0, save_all=True, append_images=images[1:]\n",
    "    )"
   ]
  },
  {
   "cell_type": "code",
   "execution_count": null,
   "metadata": {},
   "outputs": [],
   "source": []
  }
 ],
 "metadata": {
  "kernelspec": {
   "display_name": "torch_env2",
   "language": "python",
   "name": "python3"
  },
  "language_info": {
   "codemirror_mode": {
    "name": "ipython",
    "version": 3
   },
   "file_extension": ".py",
   "mimetype": "text/x-python",
   "name": "python",
   "nbconvert_exporter": "python",
   "pygments_lexer": "ipython3",
   "version": "3.9.12"
  },
  "orig_nbformat": 4
 },
 "nbformat": 4,
 "nbformat_minor": 2
}
