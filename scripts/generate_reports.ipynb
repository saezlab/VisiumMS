{
 "cells": [
  {
   "cell_type": "code",
   "execution_count": 26,
   "metadata": {},
   "outputs": [],
   "source": [
    "from PIL import Image\n",
    "import os\n",
    "import numpy as np\n",
    "from pypdf import PdfMerger, PdfReader, PdfWriter"
   ]
  },
  {
   "cell_type": "code",
   "execution_count": 22,
   "metadata": {},
   "outputs": [],
   "source": [
    "import io\n",
    "from reportlab.pdfgen import canvas\n",
    "from reportlab.lib.pagesizes import letter"
   ]
  },
  {
   "attachments": {},
   "cell_type": "markdown",
   "metadata": {},
   "source": [
    "Utility script to make serveral figures in one pdf, which I can share more easily."
   ]
  },
  {
   "attachments": {},
   "cell_type": "markdown",
   "metadata": {},
   "source": [
    "# Image Report"
   ]
  },
  {
   "cell_type": "code",
   "execution_count": 4,
   "metadata": {},
   "outputs": [],
   "source": [
    "current_dir = globals()['_dh'][0]\n",
    "for quality in [\"hires\", \"fullres\"]: \n",
    "    input_dir = current_dir / \"..\" / \"data\" / (\"image_features_\" + quality)\n",
    "    out_pdf = current_dir / \"..\" / \"out\" / (\"image_features_eval_\" + quality + \".pdf\")\n",
    "\n",
    "    files = [f for f in os.listdir(input_dir) if not f.startswith(\".\") and f.endswith(\".png\")]\n",
    "    samples = np.unique(np.array([f.split(\"_\")[0] for f in files]))\n",
    "\n",
    "    images = []\n",
    "    for sample in samples:\n",
    "        files_oi = [f for f in files if f.startswith(sample)]\n",
    "        for img in files_oi:\n",
    "            png = Image.open(input_dir / img)\n",
    "            png.load() # required for png.split()\n",
    "            background = Image.new(\"RGB\", png.size, (255, 255, 255))\n",
    "            background.paste(png, mask=png.split()[3]) # 3 is the alpha channel\n",
    "            images.append(background)\n",
    "\n",
    "    images[0].save(\n",
    "        out_pdf, \"PDF\" ,resolution=100.0, save_all=True, append_images=images[1:]\n",
    "    )"
   ]
  },
  {
   "attachments": {},
   "cell_type": "markdown",
   "metadata": {},
   "source": [
    "# QC Report"
   ]
  },
  {
   "cell_type": "code",
   "execution_count": 2,
   "metadata": {},
   "outputs": [],
   "source": [
    "current_dir = globals()['_dh'][0]\n",
    "for method in [\"cellbender\", \"cellranger\"]:\n",
    "    input_dir = current_dir / \"..\" / \"out\" / (method + \"_qc\")\n",
    "    out_pdf = current_dir / \"..\" / \"out\" / (method + \"_qc_out.pdf\")\n",
    "\n",
    "    images = []\n",
    "    files = [f for f in os.listdir(input_dir) if not f.startswith(\".\") and f.endswith(\".png\")]\n",
    "    for img in files:\n",
    "        png = Image.open(input_dir / img)\n",
    "        png.load() # required for png.split()\n",
    "        background = Image.new(\"RGB\", png.size, (255, 255, 255))\n",
    "        background.paste(png, mask=png.split()[3]) # 3 is the alpha channel\n",
    "        images.append(background)\n",
    "\n",
    "    images[0].save(\n",
    "        out_pdf, \"PDF\" ,resolution=100.0, save_all=True, append_images=images[1:]\n",
    "    )"
   ]
  },
  {
   "attachments": {},
   "cell_type": "markdown",
   "metadata": {},
   "source": [
    "# CellBender Report"
   ]
  },
  {
   "cell_type": "code",
   "execution_count": null,
   "metadata": {},
   "outputs": [],
   "source": [
    "packet = io.BytesIO()\n",
    "can = canvas.Canvas(packet, pagesize=letter)\n",
    "can.drawString(10, 100, \"Hello world\")\n",
    "can.save()\n",
    "packet.seek(0)"
   ]
  },
  {
   "cell_type": "code",
   "execution_count": 31,
   "metadata": {},
   "outputs": [],
   "source": [
    "current_dir = globals()['_dh'][0]\n",
    "input_dir = current_dir / \"..\" / \"data\" / \"prc\" / \"sc\" / \"cellbender\"\n",
    "output_pdf = current_dir / \"..\" / \"out\" / \"cellbender_report.pdf\"\n",
    "merger = PdfMerger()\n",
    "samples = os.listdir(input_dir)\n",
    "for sample in samples:\n",
    "    pdf = input_dir / sample / \"cell_bender_matrix.pdf\"\n",
    "    pdf_out = input_dir / sample / \"cell_bender_matrix_s.pdf\"\n",
    "\n",
    "    # add sample name to pdf\n",
    "    packet = io.BytesIO()\n",
    "    can = canvas.Canvas(packet, pagesize=letter)\n",
    "    can.drawString(10, 800, sample)\n",
    "    can.save()\n",
    "    packet.seek(0)\n",
    "\n",
    "    new_pdf = PdfReader(packet)\n",
    "    existing_pdf = PdfReader(open(pdf, \"rb\"))\n",
    "    output = PdfWriter()\n",
    "    page = existing_pdf.pages[0]\n",
    "    page.merge_page(new_pdf.pages[0])\n",
    "    output.add_page(page)\n",
    "    output_stream = open(pdf_out, \"wb\")\n",
    "    output.write(output_stream)\n",
    "    output_stream.close()\n",
    "\n",
    "    merger.append(pdf_out)\n",
    "\n",
    "merger.write(output_pdf)\n",
    "merger.close()"
   ]
  },
  {
   "cell_type": "code",
   "execution_count": null,
   "metadata": {},
   "outputs": [],
   "source": []
  },
  {
   "cell_type": "code",
   "execution_count": null,
   "metadata": {},
   "outputs": [],
   "source": []
  },
  {
   "cell_type": "code",
   "execution_count": null,
   "metadata": {},
   "outputs": [],
   "source": []
  }
 ],
 "metadata": {
  "kernelspec": {
   "display_name": "torch_env2",
   "language": "python",
   "name": "python3"
  },
  "language_info": {
   "codemirror_mode": {
    "name": "ipython",
    "version": 3
   },
   "file_extension": ".py",
   "mimetype": "text/x-python",
   "name": "python",
   "nbconvert_exporter": "python",
   "pygments_lexer": "ipython3",
   "version": "3.8.16"
  },
  "orig_nbformat": 4
 },
 "nbformat": 4,
 "nbformat_minor": 2
}
