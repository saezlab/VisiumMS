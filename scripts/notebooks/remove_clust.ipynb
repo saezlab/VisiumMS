{
 "cells": [
  {
   "cell_type": "code",
   "execution_count": 7,
   "metadata": {},
   "outputs": [],
   "source": [
    "\n",
    "# custom file to remove clusters\n",
    "import scanpy as sc\n",
    "from pathlib import Path\n",
    "\n",
    "resolution = 0.75\n",
    "clust_to_remove = [\"5\", \"18\", \"24\"]\n",
    "\n",
    "current_folder = globals()['_dh'][0]\n",
    "input_file = current_folder / \"..\" / \"..\" / \"data\" / \"prc\" / \"sc\" / \"cellranger_integrated.h5ad\""
   ]
  },
  {
   "cell_type": "code",
   "execution_count": 8,
   "metadata": {},
   "outputs": [
    {
     "name": "stdout",
     "output_type": "stream",
     "text": [
      "AnnData object with n_obs × n_vars = 143332 × 3000\n",
      "    obs: 'n_genes', 'n_genes_by_counts', 'total_counts', 'total_counts_mt', 'pct_counts_mt', 'doublet_score', 'predicted_doublet', 'diss_score', 'patient_id', 'sample_id', 'Condition', 'lesion_type', 'Age', 'Sex', 'RIN', 'Batch', 'visium', 'snRNA-seq', 'batch', 'leiden'\n",
      "    var: 'highly_variable', 'highly_variable_nbatches', 'mean', 'std'\n",
      "    uns: 'hvg', 'log1p', 'neighbors', 'pca', 'umap', 'leiden'\n",
      "    obsm: 'X_pca', 'X_umap'\n",
      "    varm: 'PCs'\n",
      "    obsp: 'connectivities', 'distances'\n"
     ]
    }
   ],
   "source": [
    "adata = sc.read_h5ad(input_file)\n",
    "sc.tl.leiden(adata, resolution=resolution, key_added='leiden')\n",
    "print(adata)"
   ]
  },
  {
   "cell_type": "code",
   "execution_count": 10,
   "metadata": {},
   "outputs": [
    {
     "data": {
      "text/plain": [
       "leiden\n",
       "0     30159\n",
       "1     21733\n",
       "2     13396\n",
       "3     13110\n",
       "4     12021\n",
       "6      7597\n",
       "7      5414\n",
       "8      5380\n",
       "9      5029\n",
       "10     4138\n",
       "11     3768\n",
       "12     2587\n",
       "13     1300\n",
       "14     1259\n",
       "15     1259\n",
       "16      870\n",
       "17      673\n",
       "19      518\n",
       "20      507\n",
       "21      288\n",
       "22      244\n",
       "23      224\n",
       "Name: count, dtype: int64"
      ]
     },
     "execution_count": 10,
     "metadata": {},
     "output_type": "execute_result"
    }
   ],
   "source": [
    "adata.obs['leiden'].value_counts()"
   ]
  },
  {
   "cell_type": "code",
   "execution_count": 9,
   "metadata": {},
   "outputs": [
    {
     "data": {
      "text/plain": [
       "View of AnnData object with n_obs × n_vars = 131474 × 3000\n",
       "    obs: 'n_genes', 'n_genes_by_counts', 'total_counts', 'total_counts_mt', 'pct_counts_mt', 'doublet_score', 'predicted_doublet', 'diss_score', 'patient_id', 'sample_id', 'Condition', 'lesion_type', 'Age', 'Sex', 'RIN', 'Batch', 'visium', 'snRNA-seq', 'batch', 'leiden'\n",
       "    var: 'highly_variable', 'highly_variable_nbatches', 'mean', 'std'\n",
       "    uns: 'hvg', 'log1p', 'neighbors', 'pca', 'umap', 'leiden'\n",
       "    obsm: 'X_pca', 'X_umap'\n",
       "    varm: 'PCs'\n",
       "    obsp: 'connectivities', 'distances'"
      ]
     },
     "execution_count": 9,
     "metadata": {},
     "output_type": "execute_result"
    }
   ],
   "source": [
    "adata = adata[~adata.obs['leiden'].isin(clust_to_remove), :]\n",
    "adata"
   ]
  },
  {
   "cell_type": "code",
   "execution_count": 13,
   "metadata": {},
   "outputs": [
    {
     "data": {
      "text/plain": [
       "leiden\n",
       "0     30159\n",
       "1     21733\n",
       "2     13396\n",
       "3     13110\n",
       "4     12021\n",
       "6      7597\n",
       "7      5414\n",
       "8      5380\n",
       "9      5029\n",
       "10     4138\n",
       "11     3768\n",
       "12     2587\n",
       "13     1300\n",
       "14     1259\n",
       "15     1259\n",
       "16      870\n",
       "17      673\n",
       "19      518\n",
       "20      507\n",
       "21      288\n",
       "22      244\n",
       "23      224\n",
       "Name: count, dtype: int64"
      ]
     },
     "execution_count": 13,
     "metadata": {},
     "output_type": "execute_result"
    }
   ],
   "source": [
    "adata.obs.leiden.value_counts()"
   ]
  },
  {
   "cell_type": "code",
   "execution_count": 11,
   "metadata": {},
   "outputs": [],
   "source": [
    "adata.write(current_folder / \"..\" / \"..\" / \"data\" / \"prc\" / \"sc\" / \"cellranger_integrated_removed_5_18_24.h5ad\")"
   ]
  },
  {
   "cell_type": "code",
   "execution_count": null,
   "metadata": {},
   "outputs": [],
   "source": []
  }
 ],
 "metadata": {
  "kernelspec": {
   "display_name": "torch_env",
   "language": "python",
   "name": "python3"
  },
  "language_info": {
   "codemirror_mode": {
    "name": "ipython",
    "version": 3
   },
   "file_extension": ".py",
   "mimetype": "text/x-python",
   "name": "python",
   "nbconvert_exporter": "python",
   "pygments_lexer": "ipython3",
   "version": "3.8.16"
  },
  "orig_nbformat": 4
 },
 "nbformat": 4,
 "nbformat_minor": 2
}
