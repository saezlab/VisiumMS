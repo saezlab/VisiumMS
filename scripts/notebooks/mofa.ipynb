{
 "cells": [
  {
   "cell_type": "code",
   "execution_count": null,
   "metadata": {},
   "outputs": [],
   "source": [
    "from mofapy2.run.entry_point import entry_point\n",
    "import pandas as pd\n",
    "import numpy as np\n",
    "import os\n",
    "import scanpy as sc\n",
    "import mofax as mfx\n",
    "\n",
    "from umap import UMAP\n",
    "import matplotlib.pyplot as plt\n",
    "import seaborn as sns\n",
    "import decoupler as dc\n",
    "\n",
    "# initialise the entry point\n",
    "ent = entry_point()"
   ]
  },
  {
   "cell_type": "code",
   "execution_count": null,
   "metadata": {},
   "outputs": [],
   "source": [
    "# see deconv.py\n",
    "def lookup(model_call, sample_entry):\n",
    "    if model_call == \"all\":\n",
    "        reg_model = \"All\"\n",
    "    elif model_call == \"condition\":\n",
    "        if sample_entry[\"Condition\"] == \"Control\":\n",
    "            reg_model = \"Control\"\n",
    "        elif sample_entry[\"Condition\"] == \"MS\":\n",
    "            reg_model = \"MS\"\n",
    "        else:\n",
    "            raise ValueError(\"Unknown condition\")\n",
    "    elif model_call == \"lesion_type\":\n",
    "        if sample_entry[\"lesion_type\"] == \"Ctrl\":\n",
    "            reg_model = \"Control\"\n",
    "        elif sample_entry[\"lesion_type\"] == \"CI\":\n",
    "            reg_model = \"CI\"\n",
    "        elif sample_entry[\"lesion_type\"] == \"CA\":\n",
    "            reg_model = \"CA\"\n",
    "        elif sample_entry[\"lesion_type\"] == \"A\":\n",
    "            reg_model = \"A\"\n",
    "        else:\n",
    "            raise ValueError(\"Unknown lesion type\")\n",
    "    else:\n",
    "        raise ValueError(\"Unknown model\")\n",
    "    return reg_model"
   ]
  },
  {
   "cell_type": "code",
   "execution_count": null,
   "metadata": {},
   "outputs": [],
   "source": [
    "current_path = globals()[\"_dh\"][0]\n",
    "out_file = current_path / \"..\" / \"..\" / \"data\" / \"prc\" / \"vis\" / \"mofa_test.hdf5\"\n",
    "visium_path = current_path / \"..\" / \"..\" / \"data\" / \"raw\" / \"vis\"\n",
    "c2l_path = current_path / \"..\" / \"..\" / \"data\" / \"prc\" / \"vis\" / \"c2l_out\" / \"cellranger\"\n",
    "img_features = current_path / \"..\" / \"..\" / \"data\" / \"prc\" / \"images\" / \"squdipy_features\"\n",
    "visium_samples = [f for f in os.listdir(visium_path) if not f.startswith(\".\")]\n",
    "print(np.array(visium_samples))"
   ]
  },
  {
   "cell_type": "code",
   "execution_count": null,
   "metadata": {},
   "outputs": [],
   "source": [
    "sample_meta = pd.read_excel(current_path / \"..\" / \"..\" / \"data\" / \"Metadata_all.xlsx\", sheet_name=\"Visium\")\n",
    "sample_meta"
   ]
  },
  {
   "cell_type": "code",
   "execution_count": null,
   "metadata": {},
   "outputs": [],
   "source": [
    "os.listdir(img_features)"
   ]
  },
  {
   "cell_type": "code",
   "execution_count": null,
   "metadata": {},
   "outputs": [],
   "source": [
    "def read_slide(sample_id, visium_path, c2l_path):\n",
    "\n",
    "    # get sample metadata\n",
    "    sample_entry = sample_meta.loc[sample_meta.sample_id == sample_id, :].to_dict(orient=\"records\")[0]\n",
    "\n",
    "    # Read rna-seq\n",
    "    slide = sc.read_visium(visium_path / sample_id / \"outs\")\n",
    "    slide.var_names_make_unique()\n",
    "    \n",
    "    sc.pp.filter_genes(slide, min_cells=3)\n",
    "    sc.pp.filter_cells(slide, min_genes=200)\n",
    "\n",
    "    # Store raw counts\n",
    "    slide.raw = slide\n",
    "    slide.layers[\"counts\"] = slide.X.copy()\n",
    "\n",
    "    # Normalize\n",
    "    sc.pp.normalize_total(slide, target_sum=1e4)\n",
    "    sc.pp.log1p(slide)\n",
    "\n",
    "    # Read props and abunds\n",
    "    for model_call in [\"all\", \"condition\", \"lesion_type\"]:\n",
    "        suffix = lookup(model_call, sample_entry)\n",
    "        for output in [\"abunds\", \"props\"]:\n",
    "            m = pd.read_csv(c2l_path / sample_id / f\"cell_{output}_{suffix}.csv\", index_col=0)\n",
    "            inter = slide.obs.index.intersection(m.index)\n",
    "            slide.obsm[f\"{output}_{model_call}\"] = m.loc[inter]\n",
    "\n",
    "    # Read image features\n",
    "    \n",
    "\n",
    "    return slide"
   ]
  },
  {
   "cell_type": "code",
   "execution_count": null,
   "metadata": {},
   "outputs": [],
   "source": [
    "vis_dict = {s: read_slide(s, visium_path, c2l_path) for s in visium_samples}"
   ]
  },
  {
   "cell_type": "code",
   "execution_count": null,
   "metadata": {},
   "outputs": [],
   "source": [
    "fig, axs = plt.subplots(4, 6, figsize=(12, 8))\n",
    "axs = axs.flatten()\n",
    "for i, s in enumerate(visium_samples):\n",
    "    sns.histplot(vis_dict[s].obsm[\"abunds\"].sum(axis=1), ax=axs[i])\n",
    "    axs[i].set_title(s)\n",
    "plt.tight_layout()\n",
    "plt.show()"
   ]
  },
  {
   "cell_type": "code",
   "execution_count": null,
   "metadata": {},
   "outputs": [],
   "source": [
    "msigdb = dc.get_resource('MSigDB')"
   ]
  },
  {
   "cell_type": "code",
   "execution_count": null,
   "metadata": {},
   "outputs": [],
   "source": [
    "# get hallmark db\n",
    "hallmark = msigdb[msigdb['collection']=='hallmark'] # filter by hallmark\n",
    "hallmark = hallmark[~hallmark.duplicated(['geneset', 'genesymbol'])] # remove duplicates\n",
    "hallmark.loc[:, 'geneset'] = [name.split('HALLMARK_')[1] for name in hallmark['geneset']] # rename for consistency\n",
    "hallmark = hallmark.loc[:, ['geneset', 'genesymbol']] # reorder columns\n",
    "hallmark"
   ]
  },
  {
   "cell_type": "code",
   "execution_count": null,
   "metadata": {},
   "outputs": [],
   "source": [
    "# get progeny db\n",
    "progeny = dc.get_progeny(top=300)\n",
    "progeny = progeny.rename(columns={'source': 'geneset', 'target': 'genesymbol'})\n",
    "progeny = progeny.loc[:, ['geneset', 'genesymbol', 'weight']] # reorder columns\n",
    "progeny"
   ]
  },
  {
   "cell_type": "code",
   "execution_count": null,
   "metadata": {},
   "outputs": [],
   "source": [
    "# get reactome db\n",
    "reactome = msigdb[msigdb['collection'] == 'reactome_pathways']\n",
    "reactome = reactome.loc[:, ['geneset', 'genesymbol']] # reorder columns\n",
    "reactome = reactome[~reactome.duplicated(['geneset', 'genesymbol'])]\n",
    "reactome"
   ]
  },
  {
   "cell_type": "code",
   "execution_count": null,
   "metadata": {},
   "outputs": [],
   "source": [
    "len(reactome.geneset.unique())"
   ]
  },
  {
   "cell_type": "code",
   "execution_count": null,
   "metadata": {},
   "outputs": [],
   "source": [
    "for key, adata in vis_dict.items():\n",
    "    print(key)\n",
    "    for pkn, pkn_name in zip([hallmark, progeny, reactome], [\"hallmark\", \"progeny\", \"reactome\"]):\n",
    "        print(pkn_name)\n",
    "        dc.run_ulm(\n",
    "            mat=adata,\n",
    "            net=pkn,\n",
    "            source=\"geneset\",\n",
    "            target=\"genesymbol\",\n",
    "            weight=\"weight\" if pkn_name in [\"progeny\"] else None,\n",
    "            verbose=True,\n",
    "            use_raw=True)\n",
    "        adata.obsm[f\"{pkn_name}_estimates\"] = adata.obsm[\"ulm_estimate\"]\n",
    "        adata.obsm[f\"{pkn_name}_pvals\"] = adata.obsm[\"ulm_pvals\"]\n",
    "        del adata.obsm[\"ulm_estimate\"], adata.obsm[\"ulm_pvals\"]"
   ]
  },
  {
   "cell_type": "code",
   "execution_count": null,
   "metadata": {},
   "outputs": [],
   "source": [
    "vis_dict[\"CO37\"].obsm_keys()"
   ]
  },
  {
   "cell_type": "code",
   "execution_count": null,
   "metadata": {},
   "outputs": [],
   "source": [
    "\n",
    "reactome = msigdb[msigdb['collection'] == 'reactome_pathways']"
   ]
  },
  {
   "cell_type": "code",
   "execution_count": null,
   "metadata": {},
   "outputs": [],
   "source": [
    "reactome = msigdb[msigdb['collection'] == 'reactome_pathways']\n",
    "reactome"
   ]
  },
  {
   "cell_type": "code",
   "execution_count": null,
   "metadata": {},
   "outputs": [],
   "source": []
  },
  {
   "cell_type": "code",
   "execution_count": null,
   "metadata": {},
   "outputs": [],
   "source": []
  },
  {
   "cell_type": "code",
   "execution_count": null,
   "metadata": {},
   "outputs": [],
   "source": []
  }
 ],
 "metadata": {
  "kernelspec": {
   "display_name": "torch_env",
   "language": "python",
   "name": "python3"
  },
  "language_info": {
   "codemirror_mode": {
    "name": "ipython",
    "version": 3
   },
   "file_extension": ".py",
   "mimetype": "text/x-python",
   "name": "python",
   "nbconvert_exporter": "python",
   "pygments_lexer": "ipython3",
   "version": "3.8.16"
  },
  "orig_nbformat": 4
 },
 "nbformat": 4,
 "nbformat_minor": 2
}
