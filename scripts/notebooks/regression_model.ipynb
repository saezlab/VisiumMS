{
 "cells": [
  {
   "cell_type": "code",
   "execution_count": 72,
   "metadata": {},
   "outputs": [],
   "source": [
    "\n",
    "# usage\n",
    "# python scripts/process/regression_model.py --output cellbender\n",
    "# python scripts/process/regression_model.py --output cellranger\n",
    "\n",
    "import sys\n",
    "import scanpy as sc\n",
    "import anndata\n",
    "import pandas as pd\n",
    "import numpy as np\n",
    "from numpy.random import default_rng\n",
    "import os\n",
    "import matplotlib.pyplot as plt\n",
    "from pathlib import Path\n",
    "import re\n",
    "\n",
    "# this line forces theano to use the GPU and should go before importing cell2location\n",
    "os.environ[\"THEANO_FLAGS\"] = 'device=cuda0,floatX=float32,force_device=True'\n",
    "\n",
    "import argparse\n",
    "\n",
    "from easydict import EasyDict as edict"
   ]
  },
  {
   "cell_type": "code",
   "execution_count": 73,
   "metadata": {},
   "outputs": [
    {
     "data": {
      "text/plain": [
       "{'output': 'cellranger'}"
      ]
     },
     "execution_count": 73,
     "metadata": {},
     "output_type": "execute_result"
    }
   ],
   "source": [
    "args = edict({\"output\": \"cellbender\"})\n",
    "args = edict({\"output\": \"cellranger\"})\n",
    "sample_id = \"sample_id\"\n",
    "args"
   ]
  },
  {
   "cell_type": "code",
   "execution_count": 74,
   "metadata": {},
   "outputs": [
    {
     "name": "stderr",
     "output_type": "stream",
     "text": [
      "/Users/pschafer/miniconda3/envs/torch_env/lib/python3.8/site-packages/anndata/_core/anndata.py:1832: UserWarning: Variable names are not unique. To make them unique, call `.var_names_make_unique`.\n",
      "  utils.warn_names_duplicates(\"var\")\n",
      "/Users/pschafer/miniconda3/envs/torch_env/lib/python3.8/site-packages/anndata/_core/anndata.py:1832: UserWarning: Variable names are not unique. To make them unique, call `.var_names_make_unique`.\n",
      "  utils.warn_names_duplicates(\"var\")\n",
      "/Users/pschafer/miniconda3/envs/torch_env/lib/python3.8/site-packages/anndata/_core/anndata.py:1832: UserWarning: Variable names are not unique. To make them unique, call `.var_names_make_unique`.\n",
      "  utils.warn_names_duplicates(\"var\")\n",
      "/Users/pschafer/miniconda3/envs/torch_env/lib/python3.8/site-packages/anndata/_core/anndata.py:1832: UserWarning: Variable names are not unique. To make them unique, call `.var_names_make_unique`.\n",
      "  utils.warn_names_duplicates(\"var\")\n",
      "/Users/pschafer/miniconda3/envs/torch_env/lib/python3.8/site-packages/anndata/_core/anndata.py:1832: UserWarning: Variable names are not unique. To make them unique, call `.var_names_make_unique`.\n",
      "  utils.warn_names_duplicates(\"var\")\n",
      "/Users/pschafer/miniconda3/envs/torch_env/lib/python3.8/site-packages/anndata/_core/anndata.py:1832: UserWarning: Variable names are not unique. To make them unique, call `.var_names_make_unique`.\n",
      "  utils.warn_names_duplicates(\"var\")\n",
      "/Users/pschafer/miniconda3/envs/torch_env/lib/python3.8/site-packages/anndata/_core/anndata.py:1832: UserWarning: Variable names are not unique. To make them unique, call `.var_names_make_unique`.\n",
      "  utils.warn_names_duplicates(\"var\")\n",
      "/Users/pschafer/miniconda3/envs/torch_env/lib/python3.8/site-packages/anndata/_core/anndata.py:1832: UserWarning: Variable names are not unique. To make them unique, call `.var_names_make_unique`.\n",
      "  utils.warn_names_duplicates(\"var\")\n",
      "/Users/pschafer/miniconda3/envs/torch_env/lib/python3.8/site-packages/anndata/_core/anndata.py:1832: UserWarning: Variable names are not unique. To make them unique, call `.var_names_make_unique`.\n",
      "  utils.warn_names_duplicates(\"var\")\n",
      "/Users/pschafer/miniconda3/envs/torch_env/lib/python3.8/site-packages/anndata/_core/anndata.py:1832: UserWarning: Variable names are not unique. To make them unique, call `.var_names_make_unique`.\n",
      "  utils.warn_names_duplicates(\"var\")\n",
      "/Users/pschafer/miniconda3/envs/torch_env/lib/python3.8/site-packages/anndata/_core/anndata.py:1832: UserWarning: Variable names are not unique. To make them unique, call `.var_names_make_unique`.\n",
      "  utils.warn_names_duplicates(\"var\")\n",
      "/Users/pschafer/miniconda3/envs/torch_env/lib/python3.8/site-packages/anndata/_core/anndata.py:1832: UserWarning: Variable names are not unique. To make them unique, call `.var_names_make_unique`.\n",
      "  utils.warn_names_duplicates(\"var\")\n",
      "/Users/pschafer/miniconda3/envs/torch_env/lib/python3.8/site-packages/anndata/_core/anndata.py:1832: UserWarning: Variable names are not unique. To make them unique, call `.var_names_make_unique`.\n",
      "  utils.warn_names_duplicates(\"var\")\n",
      "/Users/pschafer/miniconda3/envs/torch_env/lib/python3.8/site-packages/anndata/_core/anndata.py:1832: UserWarning: Variable names are not unique. To make them unique, call `.var_names_make_unique`.\n",
      "  utils.warn_names_duplicates(\"var\")\n",
      "/Users/pschafer/miniconda3/envs/torch_env/lib/python3.8/site-packages/anndata/_core/anndata.py:1832: UserWarning: Variable names are not unique. To make them unique, call `.var_names_make_unique`.\n",
      "  utils.warn_names_duplicates(\"var\")\n",
      "/Users/pschafer/miniconda3/envs/torch_env/lib/python3.8/site-packages/anndata/_core/anndata.py:1832: UserWarning: Variable names are not unique. To make them unique, call `.var_names_make_unique`.\n",
      "  utils.warn_names_duplicates(\"var\")\n",
      "/Users/pschafer/miniconda3/envs/torch_env/lib/python3.8/site-packages/anndata/_core/anndata.py:1832: UserWarning: Variable names are not unique. To make them unique, call `.var_names_make_unique`.\n",
      "  utils.warn_names_duplicates(\"var\")\n",
      "/Users/pschafer/miniconda3/envs/torch_env/lib/python3.8/site-packages/anndata/_core/anndata.py:1832: UserWarning: Variable names are not unique. To make them unique, call `.var_names_make_unique`.\n",
      "  utils.warn_names_duplicates(\"var\")\n",
      "/Users/pschafer/miniconda3/envs/torch_env/lib/python3.8/site-packages/anndata/_core/anndata.py:1832: UserWarning: Variable names are not unique. To make them unique, call `.var_names_make_unique`.\n",
      "  utils.warn_names_duplicates(\"var\")\n"
     ]
    }
   ],
   "source": [
    "# set up relative paths within the project\n",
    "current_folder = globals()['_dh'][0]\n",
    "if args.output == \"cellbender\":\n",
    "    adata_annotated = sc.read_h5ad(current_folder / \"..\" / \"..\" / \"data\" / \"prc\" / \"sc\" / \"annotated_cellbender_mod.h5ad\")\n",
    "    raw_input_dir = current_folder / \"..\" / \"..\" / \"data\" / \"prc\" / \"sc\" / \"cellbender\"\n",
    "    samples = [sample for sample in os.listdir(raw_input_dir) if not sample.startswith(\".\")]\n",
    "    adata_objects = {}\n",
    "    for sample in samples:\n",
    "        adata = sc.read_10x_h5(raw_input_dir / sample / \"cell_bender_matrix_filtered.h5\")\n",
    "        adata.var_names_make_unique()\n",
    "        adata.obs_names = [f\"{sample}_{cell}\" for cell in adata.obs_names]\n",
    "        adata_objects[sample] = adata\n",
    "    adata_raw = sc.concat(list(adata_objects.values()), join=\"outer\", label=sample_id, keys=list(adata_objects.keys()))\n",
    "    del adata_objects\n",
    "    output_dir = current_folder / \"..\" / \"..\" / \"data\" / \"prc\" / \"sc\" / \"c2l_model\" / \"cellbender\"\n",
    "\n",
    "elif args.output == \"cellranger\":\n",
    "    adata_annotated = sc.read_h5ad(current_folder / \"..\" / \"..\" / \"data\" / \"prc\" / \"sc\" / \"annotated_cellranger_mod.h5ad\")\n",
    "    raw_input_dir = current_folder / \"..\" / \"..\" / \"data\" / \"raw\" / \"sc\"\n",
    "    samples = [sample for sample in os.listdir(raw_input_dir) if not sample.startswith(\".\")]\n",
    "    adata_objects = {}\n",
    "    for sample in samples:\n",
    "        adata = sc.read_10x_h5(raw_input_dir / sample / \"filtered_feature_bc_matrix.h5\")\n",
    "        adata.var_names_make_unique()\n",
    "        adata.obs_names = [f\"{sample}_{cell}\" for cell in adata.obs_names]\n",
    "        adata_objects[sample] = adata\n",
    "    adata_raw = sc.concat(list(adata_objects.values()), join=\"outer\", label=sample_id, keys=list(adata_objects.keys()))\n",
    "    del adata_objects\n",
    "    output_dir = current_folder / \"..\" / \"..\" / \"data\" / \"prc\" / \"sc\" / \"c2l_model\" / \"cellranger\"\n",
    "\n",
    "else:\n",
    "    raise ValueError(\"output must be either 'cellbender' or 'cellranger'\")\n",
    "output_dir.mkdir(parents=True, exist_ok=True)"
   ]
  },
  {
   "cell_type": "code",
   "execution_count": 75,
   "metadata": {},
   "outputs": [
    {
     "name": "stdout",
     "output_type": "stream",
     "text": [
      "Index(['CO37_AAACCCAAGTCTGCGC-1', 'CO37_AAACCCACACCACATA-1',\n",
      "       'CO37_AAACCCACATTCCTAT-1', 'CO37_AAACCCACATTGTCGA-1',\n",
      "       'CO37_AAACCCATCTCCGATC-1', 'CO37_AAACCCATCTCTAGGA-1'],\n",
      "      dtype='object')\n",
      "Index(['MS586_TTTGGTTTCATTTCCA-1', 'MS586_TTTGTTGAGGTAAGGA-1',\n",
      "       'MS586_TTTGTTGAGTGACCTT-1', 'MS586_TTTGTTGGTCCACTCT-1',\n",
      "       'MS586_TTTGTTGGTGTCCTAA-1', 'MS586_TTTGTTGTCTAGAGCT-1'],\n",
      "      dtype='object')\n"
     ]
    }
   ],
   "source": [
    "# paste the sample id to the obs names\n",
    "adata_annotated.obs_names = [f\"{sample}_{re.sub('-[0-9]+$', '', cell)}\" for sample, cell in zip(adata_annotated.obs[sample_id], adata_annotated.obs_names)]\n",
    "print(adata_annotated.obs_names[:6])\n",
    "print(adata_annotated.obs_names[-6:])"
   ]
  },
  {
   "cell_type": "code",
   "execution_count": 76,
   "metadata": {},
   "outputs": [
    {
     "name": "stdout",
     "output_type": "stream",
     "text": [
      "Index(['MS377I_AAACCCAAGTGCAGCA-1', 'MS377I_AAACCCACATGAAGCG-1',\n",
      "       'MS377I_AAACCCAGTCACCACG-1', 'MS377I_AAACCCATCAGACCGC-1',\n",
      "       'MS377I_AAACCCATCAGTCATG-1', 'MS377I_AAACGAAAGCACTAAA-1'],\n",
      "      dtype='object')\n",
      "Index(['MS497T_TTTGGTTTCAAAGAAC-1', 'MS497T_TTTGGTTTCCGTGTAA-1',\n",
      "       'MS497T_TTTGTTGCATCGCTGG-1', 'MS497T_TTTGTTGGTCTTTATC-1',\n",
      "       'MS497T_TTTGTTGGTGGGTCAA-1', 'MS497T_TTTGTTGGTGTTTGCA-1'],\n",
      "      dtype='object')\n"
     ]
    }
   ],
   "source": [
    "print(adata_raw.obs_names[:6])\n",
    "print(adata_raw.obs_names[-6:])"
   ]
  },
  {
   "cell_type": "code",
   "execution_count": 77,
   "metadata": {},
   "outputs": [],
   "source": [
    "# check whether the annotated adata is a subset of the raw adata\n",
    "assert set(adata_annotated.obs_names).issubset(set(adata_raw.obs_names)), \"The annotated adata is not a subset of the raw adata\""
   ]
  },
  {
   "cell_type": "code",
   "execution_count": 78,
   "metadata": {},
   "outputs": [
    {
     "data": {
      "text/plain": [
       "{'MS': 0      MS197\n",
       " 1      MS229\n",
       " 2     MS371N\n",
       " 3     MS377N\n",
       " 4     MS377I\n",
       " 5     MS377T\n",
       " 6      MS411\n",
       " 7      MS466\n",
       " 8     MS497I\n",
       " 9     MS497T\n",
       " 10    MS549H\n",
       " 11    MS549T\n",
       " 12     MS586\n",
       " Name: sample_id, dtype: object,\n",
       " 'Control': 13    CO37\n",
       " 14    CO40\n",
       " 15    CO45\n",
       " 16    CO41\n",
       " 17    CO74\n",
       " 18    CO85\n",
       " Name: sample_id, dtype: object,\n",
       " 'CA': 0     MS197\n",
       " 1     MS229\n",
       " 3    MS377N\n",
       " 4    MS377I\n",
       " 5    MS377T\n",
       " 6     MS411\n",
       " Name: sample_id, dtype: object,\n",
       " 'CI': 7      MS466\n",
       " 8     MS497I\n",
       " 9     MS497T\n",
       " 10    MS549H\n",
       " 11    MS549T\n",
       " Name: sample_id, dtype: object,\n",
       " 'A': 2     MS371N\n",
       " 12     MS586\n",
       " Name: sample_id, dtype: object}"
      ]
     },
     "execution_count": 78,
     "metadata": {},
     "output_type": "execute_result"
    }
   ],
   "source": [
    "sample_meta = pd.read_excel(current_folder / \"..\" / \"..\" / \"data\" / \"Metadata_all.xlsx\", sheet_name=\"snRNA-seq\")\n",
    "\n",
    "cond_dict = {\n",
    "    \"MS\": sample_meta.sample_id[sample_meta.Condition==\"MS\"],\n",
    "    \"Control\": sample_meta.sample_id[sample_meta.Condition==\"Control\"],\n",
    "    \"CA\": sample_meta.sample_id[sample_meta.lesion_type==\"CA\"],\n",
    "    \"CI\": sample_meta.sample_id[sample_meta.lesion_type==\"CI\"],\n",
    "    \"A\": sample_meta.sample_id[sample_meta.lesion_type==\"A\"],\n",
    "}\n",
    "cond_dict"
   ]
  },
  {
   "cell_type": "code",
   "execution_count": 79,
   "metadata": {},
   "outputs": [],
   "source": [
    "assert set(sample_meta.sample_id) == set(adata_raw.obs[sample_id]), \"Samples are missing from the raw adata\"\n",
    "assert set(sample_meta.sample_id) == set(adata_annotated.obs[sample_id]), \"Samples are missing from the annotated adata\""
   ]
  },
  {
   "cell_type": "code",
   "execution_count": 80,
   "metadata": {},
   "outputs": [
    {
     "data": {
      "text/plain": [
       "AnnData object with n_obs × n_vars = 131464 × 36601\n",
       "    obs: 'n_genes', 'n_genes_by_counts', 'total_counts', 'total_counts_mt', 'pct_counts_mt', 'doublet_score', 'predicted_doublet', 'diss_score', 'patient_id', 'sample_id', 'Condition', 'lesion_type', 'Age', 'Sex', 'RIN', 'Batch', 'visium', 'snRNA-seq', 'batch', 'leiden', 'cell_types'"
      ]
     },
     "execution_count": 80,
     "metadata": {},
     "output_type": "execute_result"
    }
   ],
   "source": [
    "# transfer the annotation\n",
    "adata_raw = adata_raw[adata_annotated.obs_names, :]\n",
    "adata_raw.obs = adata_annotated.obs\n",
    "adata_raw"
   ]
  },
  {
   "cell_type": "code",
   "execution_count": 87,
   "metadata": {},
   "outputs": [
    {
     "name": "stdout",
     "output_type": "stream",
     "text": [
      "MS\n",
      "AnnData object with n_obs × n_vars = 100849 × 36601\n",
      "    obs: 'n_genes', 'n_genes_by_counts', 'total_counts', 'total_counts_mt', 'pct_counts_mt', 'doublet_score', 'predicted_doublet', 'diss_score', 'patient_id', 'sample_id', 'Condition', 'lesion_type', 'Age', 'Sex', 'RIN', 'Batch', 'visium', 'snRNA-seq', 'batch', 'leiden', 'cell_types'\n",
      "['MS197', 'MS229', 'MS371N', 'MS377I', 'MS377N', ..., 'MS497I', 'MS497T', 'MS549H', 'MS549T', 'MS586']\n",
      "Length: 13\n",
      "Categories (13, object): ['MS197', 'MS229', 'MS371N', 'MS377I', ..., 'MS497T', 'MS549H', 'MS549T', 'MS586']\n",
      "Running regression model for MS, saving in /Users/pschafer/Projects/VisiumMS/scripts/notebooks/../../data/prc/sc/c2l_model/cellranger/MS_reg_model\n",
      "Control\n",
      "AnnData object with n_obs × n_vars = 30615 × 36601\n",
      "    obs: 'n_genes', 'n_genes_by_counts', 'total_counts', 'total_counts_mt', 'pct_counts_mt', 'doublet_score', 'predicted_doublet', 'diss_score', 'patient_id', 'sample_id', 'Condition', 'lesion_type', 'Age', 'Sex', 'RIN', 'Batch', 'visium', 'snRNA-seq', 'batch', 'leiden', 'cell_types'\n",
      "['CO37', 'CO40', 'CO41', 'CO45', 'CO74', 'CO85']\n",
      "Categories (6, object): ['CO37', 'CO40', 'CO41', 'CO45', 'CO74', 'CO85']\n",
      "Running regression model for Control, saving in /Users/pschafer/Projects/VisiumMS/scripts/notebooks/../../data/prc/sc/c2l_model/cellranger/Control_reg_model\n",
      "CA\n",
      "AnnData object with n_obs × n_vars = 48039 × 36601\n",
      "    obs: 'n_genes', 'n_genes_by_counts', 'total_counts', 'total_counts_mt', 'pct_counts_mt', 'doublet_score', 'predicted_doublet', 'diss_score', 'patient_id', 'sample_id', 'Condition', 'lesion_type', 'Age', 'Sex', 'RIN', 'Batch', 'visium', 'snRNA-seq', 'batch', 'leiden', 'cell_types'\n",
      "['MS197', 'MS229', 'MS377I', 'MS377N', 'MS377T', 'MS411']\n",
      "Categories (6, object): ['MS197', 'MS229', 'MS377I', 'MS377N', 'MS377T', 'MS411']\n",
      "Running regression model for CA, saving in /Users/pschafer/Projects/VisiumMS/scripts/notebooks/../../data/prc/sc/c2l_model/cellranger/CA_reg_model\n",
      "CI\n",
      "AnnData object with n_obs × n_vars = 35848 × 36601\n",
      "    obs: 'n_genes', 'n_genes_by_counts', 'total_counts', 'total_counts_mt', 'pct_counts_mt', 'doublet_score', 'predicted_doublet', 'diss_score', 'patient_id', 'sample_id', 'Condition', 'lesion_type', 'Age', 'Sex', 'RIN', 'Batch', 'visium', 'snRNA-seq', 'batch', 'leiden', 'cell_types'\n",
      "['MS466', 'MS497I', 'MS497T', 'MS549H', 'MS549T']\n",
      "Categories (5, object): ['MS466', 'MS497I', 'MS497T', 'MS549H', 'MS549T']\n",
      "Running regression model for CI, saving in /Users/pschafer/Projects/VisiumMS/scripts/notebooks/../../data/prc/sc/c2l_model/cellranger/CI_reg_model\n",
      "A\n",
      "AnnData object with n_obs × n_vars = 16962 × 36601\n",
      "    obs: 'n_genes', 'n_genes_by_counts', 'total_counts', 'total_counts_mt', 'pct_counts_mt', 'doublet_score', 'predicted_doublet', 'diss_score', 'patient_id', 'sample_id', 'Condition', 'lesion_type', 'Age', 'Sex', 'RIN', 'Batch', 'visium', 'snRNA-seq', 'batch', 'leiden', 'cell_types'\n",
      "['MS371N', 'MS586']\n",
      "Categories (2, object): ['MS371N', 'MS586']\n",
      "Running regression model for A, saving in /Users/pschafer/Projects/VisiumMS/scripts/notebooks/../../data/prc/sc/c2l_model/cellranger/A_reg_model\n"
     ]
    }
   ],
   "source": [
    "# Run one model for each spec\n",
    "for condition, samples in cond_dict.items():\n",
    "\n",
    "    print(condition)\n",
    "    adata = adata_raw[adata_raw.obs[sample_id].isin(samples), :].copy()\n",
    "    print(adata)\n",
    "    print(adata.obs.sample_id.unique())\n",
    "    tmp_out = output_dir / (condition + \"_reg_model\")\n",
    "    print(f\"Running regression model for {condition}, saving in {tmp_out}\")"
   ]
  },
  {
   "cell_type": "code",
   "execution_count": null,
   "metadata": {},
   "outputs": [],
   "source": []
  }
 ],
 "metadata": {
  "kernelspec": {
   "display_name": "torch_env",
   "language": "python",
   "name": "python3"
  },
  "language_info": {
   "codemirror_mode": {
    "name": "ipython",
    "version": 3
   },
   "file_extension": ".py",
   "mimetype": "text/x-python",
   "name": "python",
   "nbconvert_exporter": "python",
   "pygments_lexer": "ipython3",
   "version": "3.8.16"
  },
  "orig_nbformat": 4
 },
 "nbformat": 4,
 "nbformat_minor": 2
}
