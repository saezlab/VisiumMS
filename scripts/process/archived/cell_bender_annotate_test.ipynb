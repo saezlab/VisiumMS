{
 "cells": [
  {
   "cell_type": "code",
   "execution_count": null,
   "metadata": {},
   "outputs": [],
   "source": [
    "\n",
    "import scanpy as sc\n",
    "import anndata as ad\n",
    "\n",
    "from sklearn.neighbors import NearestNeighbors\n",
    "import numpy as np\n",
    "import pandas as pd\n",
    "\n",
    "import os\n",
    "from pathlib import Path\n",
    "import re\n",
    "\n",
    "NN = 20\n",
    "\n",
    "#current_folder = Path(__file__).parent\n",
    "current_folder = globals()[\"_dh\"][0]\n",
    "out_folder = current_folder / \"..\" / \"..\" / \"out\"\n",
    "sc._settings.ScanpyConfig.figdir = out_folder  # where scanpy saves plots\n",
    "cellbender_out = current_folder / \"..\" / \"..\" / \"data\" / \"cellbender_out\"\n",
    "raw_out = current_folder / \"..\" / \"..\" / \"data\" / \"raw\" / \"sc\"\n",
    "\n",
    "samples = [sample for sample in os.listdir(cellbender_out) if not sample.startswith(\".\")]\n",
    "\n",
    "# load the annoated object\n",
    "annoated = sc.read_h5ad(current_folder / \"..\" / \"..\" / \"data\" / \"uscsc_dump\" / \"annotated.h5ad\")\n",
    "annoated.obs.index = [re.sub(\"-[0-9]+$\", \"\", barcode) for barcode in annoated.obs.index]\n",
    "hvg = annoated.var_names.to_numpy()\n",
    "\n",
    "# load raw data\n",
    "raw_adata_objects = {sample: sc.read_10x_mtx(raw_out / sample / \"filtered_feature_bc_matrix\") for sample in samples}\n",
    "\n",
    "# load the cellbender output\n",
    "adata_objects = {sample: sc.read_h5ad(cellbender_out / sample / \"cell_bender_matrix_filtered_qc.h5\") for sample in samples}\n"
   ]
  },
  {
   "cell_type": "code",
   "execution_count": null,
   "metadata": {},
   "outputs": [],
   "source": [
    "sample = list(adata_objects.keys())[0]\n",
    "print(sample)"
   ]
  },
  {
   "cell_type": "code",
   "execution_count": null,
   "metadata": {},
   "outputs": [],
   "source": [
    "annotated_ids = annoated.obs.index[annoated.obs.sample_id==sample]\n",
    "adata_raw_annot = raw_adata_objects[sample]\n",
    "annotated_ids = np.intersect1d(annotated_ids, adata_raw_annot.obs.index)\n",
    "adata_raw_annot = adata_raw_annot[annotated_ids, hvg]\n",
    "obs = annoated.obs[annoated.obs.sample_id==sample]\n",
    "adata_raw_annot.obs = obs.loc[annotated_ids, :]"
   ]
  },
  {
   "cell_type": "code",
   "execution_count": null,
   "metadata": {},
   "outputs": [],
   "source": [
    "# get the \n",
    "obs = annoated.obs[annoated.obs.sample_id==sample]\n",
    "obs = obs.loc[annotated_ids, :]"
   ]
  },
  {
   "cell_type": "code",
   "execution_count": null,
   "metadata": {},
   "outputs": [],
   "source": [
    "adata_no_annot = adata_objects[sample]\n",
    "#sc.pp.normalize_total(adata_no_annot, target_sum=1e4)\n",
    "#sc.pp.log1p(adata_no_annot)"
   ]
  },
  {
   "cell_type": "code",
   "execution_count": null,
   "metadata": {},
   "outputs": [],
   "source": [
    "#adata_annot = annoated[annoated.obs.sample_id==sample, ]\n",
    "adata_annot = adata_raw_annot"
   ]
  },
  {
   "cell_type": "code",
   "execution_count": null,
   "metadata": {},
   "outputs": [],
   "source": [
    "# get the set of shared var_names\n",
    "shared_var_names = list(set(adata_annot.var_names) & set(adata_no_annot.var_names))\n",
    "adata_annot = adata_annot[:, shared_var_names]\n",
    "adata_no_annot_tmp = adata_no_annot[:, shared_var_names].copy()  # copy, because I want to keep all genes for alter on"
   ]
  },
  {
   "cell_type": "code",
   "execution_count": null,
   "metadata": {},
   "outputs": [],
   "source": [
    "# how many cells are in adata_no_annot that are not in adata_annot?\n",
    "print(\"Number of cells in adata_no_annot: \" + str(len(adata_no_annot_tmp.obs_names)))\n",
    "print(\"Number of cells in adata_annot: \" + str(len(adata_annot.obs_names)))\n",
    "\n",
    "cells_oi = set(adata_no_annot_tmp.obs_names) - set(adata_annot.obs_names)\n",
    "print(\"Number of cells in adata_no_annot that are not in adata_annot: \" + str(len(cells_oi)))\n",
    "\n",
    "# how many cells are in adata_no_annot that are not in adata_annot?\n",
    "cells_oi = set(adata_annot.obs_names) - set(adata_no_annot_tmp.obs_names)\n",
    "print(\"Number of cells in adata_annot that are not in adata_no_annot: \" + str(len(cells_oi)))"
   ]
  },
  {
   "cell_type": "code",
   "execution_count": null,
   "metadata": {},
   "outputs": [],
   "source": [
    "# add prefixes to cell barcodes and concat\n",
    "adata_annot.obs_names = [\"annot_\" + name for name in adata_annot.obs_names]\n",
    "adata_no_annot_tmp.obs_names = [\"not_annot_\" + name for name in adata_no_annot_tmp.obs_names]\n",
    "adata_concat = ad.concat([adata_annot, adata_no_annot_tmp], join=\"outer\", label=\"annotation\", keys=[\"annotated\", \"unannotated\"])"
   ]
  },
  {
   "cell_type": "code",
   "execution_count": null,
   "metadata": {},
   "outputs": [],
   "source": [
    "adata_concat"
   ]
  },
  {
   "cell_type": "code",
   "execution_count": null,
   "metadata": {},
   "outputs": [],
   "source": [
    "sc.pp.normalize_total(adata_concat, target_sum=1e4)\n",
    "sc.pp.log1p(adata_concat)\n",
    "sc.pp.pca(adata_concat)"
   ]
  },
  {
   "cell_type": "code",
   "execution_count": null,
   "metadata": {},
   "outputs": [],
   "source": [
    "# make umap \n",
    "sc.pp.neighbors(adata_concat, n_neighbors=15)\n",
    "sc.tl.umap(adata_concat)"
   ]
  },
  {
   "cell_type": "code",
   "execution_count": null,
   "metadata": {},
   "outputs": [],
   "source": [
    "# plot umap with label according to annotation, TODO: save plot for each sample (QC)\n",
    "sc.pl.umap(adata_concat, color=\"annotation\")"
   ]
  },
  {
   "cell_type": "code",
   "execution_count": null,
   "metadata": {},
   "outputs": [],
   "source": [
    "sc.external.pp.bbknn(adata_concat, batch_key=\"annotation\")"
   ]
  },
  {
   "cell_type": "code",
   "execution_count": null,
   "metadata": {},
   "outputs": [],
   "source": [
    "sc.tl.umap(adata_concat)\n",
    "sc.pl.umap(adata_concat, color=\"annotation\")"
   ]
  },
  {
   "cell_type": "code",
   "execution_count": null,
   "metadata": {},
   "outputs": [],
   "source": [
    "\n",
    "\n",
    "# integrate?\n",
    "\n",
    "\n",
    "# joint pca \n",
    "sc.pp.pca(adata_concat)\n",
    "\n",
    "# split back into annotated and unannotated and remove prefixes\n",
    "adata_annot_tmp = adata_concat[adata_concat.obs.index.str.startswith(\"annot_\"), ]\n",
    "adata_annot_tmp.obs_names = [re.sub(\"^annot_\", \"\", name) for name in adata_annot_tmp.obs_names]\n",
    "adata_no_annot_tmp = adata_concat[adata_concat.obs.index.str.startswith(\"not_annot_\"), ]\n",
    "adata_no_annot_tmp.obs_names = [re.sub(\"^not_annot_\", \"\", name) for name in adata_no_annot_tmp.obs_names]\n",
    "\n",
    "# for each row in adata_not_annot_pca search for the 20 nearest neighbors in adata_annot_pca\n",
    "nbrs = NearestNeighbors(n_neighbors=NN, algorithm='ball_tree').fit(adata_annot_tmp.obsm[\"X_pca\"])\n",
    "distances, indices = nbrs.kneighbors(adata_no_annot_tmp.obsm[\"X_pca\"])\n",
    "\n",
    "annotation = []\n",
    "for cell_i in range(len(adata_no_annot)):\n",
    "    barcode = adata_no_annot.obs.index[cell_i]\n",
    "    # if the barcode is present in the annotated object, then use the annotation\n",
    "    if barcode in adata_annot.obs.index:\n",
    "        annotation.append(adata_annot.obs.loc[barcode, \"cell_type\"])\n",
    "    # else, use the annotation of the nearest neighbors\n",
    "    else:\n",
    "        nearest_neighbors = indices[cell_i, :]\n",
    "        nn_annot = adata_annot.obs.iloc[nearest_neighbors, :][\"cell_type\"].value_counts()\n",
    "        # if max count below 50%, then set to \"unannotated\"\n",
    "        if nn_annot.iloc[0] < NN/2:\n",
    "            annotation.append(\"unannotated\")\n",
    "        else:\n",
    "            # get label with max count\n",
    "            annotation.append(nn_annot.index[0])\n",
    "adata_no_annot.obs[\"cell_type\"] = annotation\n",
    "\n",
    "print(adata_no_annot.obs[\"cell_type\"].value_counts())\n",
    "\n",
    "print(adata_no_annot)\n",
    "\n",
    "# save the annotated object\n",
    "adata_no_annot.write_h5ad(cellbender_out / sample / \"cell_bender_matrix_filtered_qc_annotated.h5ad\")"
   ]
  },
  {
   "cell_type": "code",
   "execution_count": null,
   "metadata": {},
   "outputs": [],
   "source": []
  }
 ],
 "metadata": {
  "kernelspec": {
   "display_name": "torch_env2",
   "language": "python",
   "name": "python3"
  },
  "language_info": {
   "codemirror_mode": {
    "name": "ipython",
    "version": 3
   },
   "file_extension": ".py",
   "mimetype": "text/x-python",
   "name": "python",
   "nbconvert_exporter": "python",
   "pygments_lexer": "ipython3",
   "version": "3.9.12"
  },
  "orig_nbformat": 4
 },
 "nbformat": 4,
 "nbformat_minor": 2
}
