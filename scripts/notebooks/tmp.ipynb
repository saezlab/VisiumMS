{
 "cells": [
  {
   "cell_type": "code",
   "execution_count": 8,
   "metadata": {},
   "outputs": [
    {
     "data": {
      "text/plain": [
       "leiden\n",
       "0     17326\n",
       "1     16337\n",
       "2     15757\n",
       "3     15108\n",
       "4     12751\n",
       "5     11561\n",
       "6      7858\n",
       "7      7373\n",
       "8      7009\n",
       "9      5846\n",
       "10     5302\n",
       "11     5222\n",
       "12     3360\n",
       "13     2646\n",
       "14     2103\n",
       "15     1203\n",
       "16     1171\n",
       "17     1014\n",
       "18      660\n",
       "19      463\n",
       "20      424\n",
       "21      275\n",
       "22      127\n",
       "Name: count, dtype: int64"
      ]
     },
     "execution_count": 8,
     "metadata": {},
     "output_type": "execute_result"
    }
   ],
   "source": [
    "import scanpy as sc\n",
    "adata = sc.read_h5ad(\"/Users/pschafer/Downloads/cellbender_integrated.h5ad\")\n",
    "sc.tl.leiden(adata, resolution=0.75, key_added='leiden', random_state=0)\n",
    "adata.obs.leiden.value_counts()"
   ]
  },
  {
   "cell_type": "code",
   "execution_count": 13,
   "metadata": {},
   "outputs": [
    {
     "name": "stdout",
     "output_type": "stream",
     "text": [
      "cell_types\n",
      "Oligos            73094\n",
      "Neurons           13545\n",
      "Microglia         13110\n",
      "Astros            12893\n",
      "DOUBLETS          11156\n",
      "OPC                5414\n",
      "Astros_r           5381\n",
      "Endothelia         3768\n",
      "T_cells            1302\n",
      "Macrophages        1259\n",
      "B_cells             673\n",
      "Astros_weird        599\n",
      "Astros_c            518\n",
      "Stroma              507\n",
      "Random_cluster      113\n",
      "Name: count, dtype: int64\n",
      "cell_types\n",
      "Oligos         73094\n",
      "Neurons        13545\n",
      "Microglia      13110\n",
      "Astros         12893\n",
      "OPC             5414\n",
      "Astros_r        5381\n",
      "Endothelia      3768\n",
      "T_cells         1302\n",
      "Macrophages     1259\n",
      "B_cells          673\n",
      "Astros_c         518\n",
      "Stroma           507\n",
      "Name: count, dtype: int64\n"
     ]
    }
   ],
   "source": [
    "import scanpy as sc\n",
    "adata = sc.read_h5ad(\"/Users/pschafer/Downloads/annotated_cellranger.h5ad\")\n",
    "print(adata.obs.cell_types.value_counts())\n",
    "to_remove = [\"Random_cluster\", \"Astros_weird\", \"DOUBLETS\"]\n",
    "adata = adata[~adata.obs.cell_types.isin(to_remove)]\n",
    "print(adata.obs.cell_types.value_counts())\n",
    "adata.write(\"/Users/pschafer/Downloads/annotated_cellranger_mod.h5ad\")"
   ]
  },
  {
   "cell_type": "code",
   "execution_count": 14,
   "metadata": {},
   "outputs": [
    {
     "name": "stdout",
     "output_type": "stream",
     "text": [
      "cell_types\n",
      "Oligos            88397\n",
      "Astros            16788\n",
      "Microglia         12757\n",
      "Neurons           11449\n",
      "OPC                5302\n",
      "Endothelia         3340\n",
      "T_cells            1171\n",
      "B_cells             662\n",
      "Astros_c            463\n",
      "Stroma              440\n",
      "Random_cluster      127\n",
      "Name: count, dtype: int64\n",
      "cell_types\n",
      "Oligos        88397\n",
      "Astros        16788\n",
      "Microglia     12757\n",
      "Neurons       11449\n",
      "OPC            5302\n",
      "Endothelia     3340\n",
      "T_cells        1171\n",
      "B_cells         662\n",
      "Astros_c        463\n",
      "Stroma          440\n",
      "Name: count, dtype: int64\n"
     ]
    }
   ],
   "source": [
    "import scanpy as sc\n",
    "adata = sc.read_h5ad(\"/Users/pschafer/Downloads/annotated_cellbender.h5ad\")\n",
    "print(adata.obs.cell_types.value_counts())\n",
    "to_remove = [\"Random_cluster\"]\n",
    "adata = adata[~adata.obs.cell_types.isin(to_remove)]\n",
    "print(adata.obs.cell_types.value_counts())\n",
    "adata.write(\"/Users/pschafer/Downloads/annotated_cellbender_mod.h5ad\")"
   ]
  },
  {
   "cell_type": "code",
   "execution_count": 4,
   "metadata": {},
   "outputs": [],
   "source": [
    "import scanpy as sc\n",
    "import pandas as pd"
   ]
  },
  {
   "cell_type": "code",
   "execution_count": 2,
   "metadata": {},
   "outputs": [],
   "source": [
    "reg_model = \"all\""
   ]
  },
  {
   "cell_type": "code",
   "execution_count": 3,
   "metadata": {},
   "outputs": [],
   "source": [
    "sample = \"MS466\""
   ]
  },
  {
   "cell_type": "code",
   "execution_count": 13,
   "metadata": {},
   "outputs": [
    {
     "data": {
      "text/plain": [
       "{'patient_id': 'MS466 A1D6',\n",
       " 'sample_id': 'MS466',\n",
       " 'Condition': 'MS',\n",
       " 'lesion_type': 'CI',\n",
       " 'Age': 65,\n",
       " 'Sex': 'F',\n",
       " 'RIN': 6.5,\n",
       " 'Batch': 1,\n",
       " 'visium': True,\n",
       " 'snRNA-seq': True}"
      ]
     },
     "execution_count": 13,
     "metadata": {},
     "output_type": "execute_result"
    }
   ],
   "source": [
    "sample = \"MS466\"\n",
    "current_folder = globals()['_dh'][0]\n",
    "sample_meta = pd.read_excel(current_folder / \"..\" / \"..\" / \"data\" / \"Metadata_all.xlsx\", sheet_name=\"Visium\")\n",
    "sample_entry = sample_meta.loc[sample_meta.sample_id == sample, :].to_dict(orient=\"records\")[0]\n",
    "sample_entry"
   ]
  },
  {
   "cell_type": "code",
   "execution_count": 14,
   "metadata": {},
   "outputs": [
    {
     "data": {
      "text/plain": [
       "{'patient_id': 'PDCO40 A1B2',\n",
       " 'sample_id': 'CO40',\n",
       " 'Condition': 'Control',\n",
       " 'lesion_type': 'Ctrl',\n",
       " 'Age': 61,\n",
       " 'Sex': 'F',\n",
       " 'RIN': 7.8,\n",
       " 'Batch': 1,\n",
       " 'visium': True,\n",
       " 'snRNA-seq': True}"
      ]
     },
     "execution_count": 14,
     "metadata": {},
     "output_type": "execute_result"
    }
   ],
   "source": [
    "sample = \"CO40\"\n",
    "current_folder = globals()['_dh'][0]\n",
    "sample_meta = pd.read_excel(current_folder / \"..\" / \"..\" / \"data\" / \"Metadata_all.xlsx\", sheet_name=\"Visium\")\n",
    "sample_entry = sample_meta.loc[sample_meta.sample_id == sample, :].to_dict(orient=\"records\")[0]\n",
    "sample_entry"
   ]
  },
  {
   "cell_type": "code",
   "execution_count": null,
   "metadata": {},
   "outputs": [],
   "source": []
  }
 ],
 "metadata": {
  "kernelspec": {
   "display_name": "torch_env",
   "language": "python",
   "name": "python3"
  },
  "language_info": {
   "codemirror_mode": {
    "name": "ipython",
    "version": 3
   },
   "file_extension": ".py",
   "mimetype": "text/x-python",
   "name": "python",
   "nbconvert_exporter": "python",
   "pygments_lexer": "ipython3",
   "version": "3.8.16"
  },
  "orig_nbformat": 4
 },
 "nbformat": 4,
 "nbformat_minor": 2
}
