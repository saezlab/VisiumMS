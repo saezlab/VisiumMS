{
 "cells": [
  {
   "cell_type": "code",
   "execution_count": 1,
   "metadata": {},
   "outputs": [
    {
     "name": "stderr",
     "output_type": "stream",
     "text": [
      "Global seed set to 0\n",
      "/home/philipp/miniconda3/envs/torch_env2/lib/python3.9/site-packages/umap/distances.py:1063: NumbaDeprecationWarning: The 'nopython' keyword argument was not supplied to the 'numba.jit' decorator. The implicit default value for this argument is currently False, but it will be changed to True in Numba 0.59.0. See https://numba.readthedocs.io/en/stable/reference/deprecation.html#deprecation-of-object-mode-fall-back-behaviour-when-using-jit for details.\n",
      "  @numba.jit()\n",
      "/home/philipp/miniconda3/envs/torch_env2/lib/python3.9/site-packages/umap/distances.py:1071: NumbaDeprecationWarning: The 'nopython' keyword argument was not supplied to the 'numba.jit' decorator. The implicit default value for this argument is currently False, but it will be changed to True in Numba 0.59.0. See https://numba.readthedocs.io/en/stable/reference/deprecation.html#deprecation-of-object-mode-fall-back-behaviour-when-using-jit for details.\n",
      "  @numba.jit()\n",
      "/home/philipp/miniconda3/envs/torch_env2/lib/python3.9/site-packages/umap/distances.py:1086: NumbaDeprecationWarning: The 'nopython' keyword argument was not supplied to the 'numba.jit' decorator. The implicit default value for this argument is currently False, but it will be changed to True in Numba 0.59.0. See https://numba.readthedocs.io/en/stable/reference/deprecation.html#deprecation-of-object-mode-fall-back-behaviour-when-using-jit for details.\n",
      "  @numba.jit()\n",
      "/home/philipp/miniconda3/envs/torch_env2/lib/python3.9/site-packages/umap/umap_.py:660: NumbaDeprecationWarning: The 'nopython' keyword argument was not supplied to the 'numba.jit' decorator. The implicit default value for this argument is currently False, but it will be changed to True in Numba 0.59.0. See https://numba.readthedocs.io/en/stable/reference/deprecation.html#deprecation-of-object-mode-fall-back-behaviour-when-using-jit for details.\n",
      "  @numba.jit()\n"
     ]
    }
   ],
   "source": [
    "\"\"\"\n",
    "Script to generate a regression model for cell2location from raw sn-seq data\n",
    "\"\"\"\n",
    "\n",
    "import anndata\n",
    "import pandas as pd\n",
    "import scanpy as sc\n",
    "from numpy.random import default_rng\n",
    "import numpy as np\n",
    "import os\n",
    "from pathlib import Path\n",
    "\n",
    "# this line forces theano to use the GPU and should go before importing cell2location\n",
    "os.environ[\"THEANO_FLAGS\"] = 'device=cuda0,floatX=float32,force_device=True'\n",
    "\n",
    "import cell2location\n",
    "\n",
    "from cell2location.utils.filtering import filter_genes\n",
    "from cell2location.models import RegressionModel\n",
    "\n",
    "import argparse"
   ]
  },
  {
   "cell_type": "code",
   "execution_count": 13,
   "metadata": {},
   "outputs": [],
   "source": [
    "test = sc.read_h5ad(\"/home/philipp/Work/VisiumMS/data/cellbender_out/MS466/cell_bender_matrix_filtered_qc_annotated.h5ad\")\n",
    "test.X.todense()"
   ]
  },
  {
   "cell_type": "code",
   "execution_count": 17,
   "metadata": {},
   "outputs": [
    {
     "data": {
      "text/plain": [
       "matrix([[0, 1, 4, ..., 0, 0, 0],\n",
       "        [0, 0, 1, ..., 0, 0, 0],\n",
       "        [0, 0, 0, ..., 0, 0, 0],\n",
       "        ...,\n",
       "        [0, 0, 0, ..., 0, 0, 0],\n",
       "        [0, 0, 0, ..., 0, 0, 0],\n",
       "        [0, 0, 0, ..., 0, 0, 0]], dtype=uint32)"
      ]
     },
     "execution_count": 17,
     "metadata": {},
     "output_type": "execute_result"
    }
   ],
   "source": [
    "test = sc.read_h5ad(\"/home/philipp/Work/VisiumMS/data/cellbender_out/MS466/cell_bender_matrix_filtered_qc.h5\")\n",
    "test.X.todense()"
   ]
  },
  {
   "cell_type": "code",
   "execution_count": 20,
   "metadata": {},
   "outputs": [
    {
     "name": "stderr",
     "output_type": "stream",
     "text": [
      "/home/philipp/miniconda3/envs/torch_env2/lib/python3.9/site-packages/anndata/_core/anndata.py:1832: UserWarning: Variable names are not unique. To make them unique, call `.var_names_make_unique`.\n",
      "  utils.warn_names_duplicates(\"var\")\n"
     ]
    },
    {
     "data": {
      "text/plain": [
       "matrix([[0, 0, 0, ..., 0, 0, 0],\n",
       "        [0, 0, 0, ..., 0, 0, 0],\n",
       "        [0, 0, 0, ..., 0, 1, 0],\n",
       "        ...,\n",
       "        [0, 0, 0, ..., 0, 0, 0],\n",
       "        [0, 0, 0, ..., 0, 0, 0],\n",
       "        [0, 0, 0, ..., 0, 0, 0]], dtype=uint32)"
      ]
     },
     "execution_count": 20,
     "metadata": {},
     "output_type": "execute_result"
    }
   ],
   "source": [
    "test = sc.read_10x_h5(\"/home/philipp/Work/VisiumMS/data/cellbender_out/MS466/cell_bender_matrix_filtered.h5\")\n",
    "test.X.todense()"
   ]
  },
  {
   "cell_type": "code",
   "execution_count": 2,
   "metadata": {},
   "outputs": [],
   "source": [
    "# TODO: harcoded config\n",
    "perc_cells = 0.4\n",
    "sample_id = \"sample_id\"\n",
    "label_name = \"cell_type\"\n",
    "labels_to_remove = [\"unannotated\"]"
   ]
  },
  {
   "cell_type": "code",
   "execution_count": 3,
   "metadata": {},
   "outputs": [],
   "source": [
    "\n",
    "#current_folder = Path(__file__).parent\n",
    "current_folder = globals()['_dh'][0]\n",
    "output_dir = current_folder / \"..\" / \"..\" / \"data\" / \"cellbender_out\"\n",
    "\n",
    "samples = [sample for sample in os.listdir(output_dir) if not sample.startswith(\".\")]\n",
    "\n",
    "adata_objects = {sample: sc.read_h5ad(output_dir / sample / \"cell_bender_matrix_filtered_qc_annotated.h5ad\") for sample in samples}\n",
    "\n",
    "adata_raw = sc.concat(list(adata_objects.values()), join=\"outer\", label=sample_id, keys=list(adata_objects.keys()), index_unique=\"_\")\n",
    "adata_raw.var_names_make_unique()"
   ]
  },
  {
   "cell_type": "code",
   "execution_count": 4,
   "metadata": {},
   "outputs": [],
   "source": [
    "adata_raw = adata_raw[~adata_raw.obs[label_name].isin(labels_to_remove), :]"
   ]
  },
  {
   "cell_type": "code",
   "execution_count": 5,
   "metadata": {},
   "outputs": [
    {
     "data": {
      "text/plain": [
       "0          MS\n",
       "1          MS\n",
       "2          MS\n",
       "3          MS\n",
       "4          MS\n",
       "5          MS\n",
       "6          MS\n",
       "7          MS\n",
       "8          MS\n",
       "9          MS\n",
       "10         MS\n",
       "11         MS\n",
       "12         MS\n",
       "13         MS\n",
       "14         MS\n",
       "15         MS\n",
       "16         MS\n",
       "17         MS\n",
       "18         MS\n",
       "19         MS\n",
       "20         MS\n",
       "21    Control\n",
       "22    Control\n",
       "23    Control\n",
       "24    Control\n",
       "25    Control\n",
       "26    Control\n",
       "27    Control\n",
       "28    Control\n",
       "Name: Condition, dtype: object"
      ]
     },
     "execution_count": 5,
     "metadata": {},
     "output_type": "execute_result"
    }
   ],
   "source": [
    "sample_meta = pd.read_excel(current_folder / \"..\" / \"..\" / \"data\" / \"Metadata_all.xlsx\")\n",
    "# we will make one model per condition\n",
    "sample_meta.Condition"
   ]
  },
  {
   "cell_type": "code",
   "execution_count": 6,
   "metadata": {},
   "outputs": [],
   "source": [
    "#ms_samples = sample_meta[\"Brain bank ID\"][sample_meta.Condition==\"MS\"]\n",
    "#ctrl_samles = sample_meta[\"Brain bank ID\"][sample_meta.Condition==\"Control\"]\n",
    "\n",
    "# ms samples are all sample ids in adata_raw that start with MS\n",
    "ms_samples = [sample for sample in adata_raw.obs[sample_id].unique() if sample.startswith(\"MS\")]\n",
    "\n",
    "# all the other samples are control\n",
    "ctrl_samles = [sample for sample in adata_raw.obs[sample_id].unique() if sample not in ms_samples]"
   ]
  },
  {
   "cell_type": "code",
   "execution_count": 7,
   "metadata": {},
   "outputs": [
    {
     "data": {
      "text/plain": [
       "['MS411', 'MS466', 'MS497T', 'MS377I', 'MS377T', 'MS549T', 'MS497I', 'MS549H']"
      ]
     },
     "execution_count": 7,
     "metadata": {},
     "output_type": "execute_result"
    }
   ],
   "source": [
    "ms_samples"
   ]
  },
  {
   "cell_type": "code",
   "execution_count": 8,
   "metadata": {},
   "outputs": [
    {
     "data": {
      "text/plain": [
       "['CO74', 'CO85', 'CO40']"
      ]
     },
     "execution_count": 8,
     "metadata": {},
     "output_type": "execute_result"
    }
   ],
   "source": [
    "ctrl_samles"
   ]
  },
  {
   "cell_type": "code",
   "execution_count": 9,
   "metadata": {},
   "outputs": [],
   "source": [
    "ms_adata_raw = adata_raw[adata_raw.obs[sample_id].isin(ms_samples), :].copy()\n",
    "ctrl_adata_raw = adata_raw[adata_raw.obs[sample_id].isin(ctrl_samles), :].copy()"
   ]
  },
  {
   "cell_type": "code",
   "execution_count": 10,
   "metadata": {},
   "outputs": [
    {
     "data": {
      "text/plain": [
       "TCCACCACAGCTTCCT-1_MS411      MS411\n",
       "AGCTTCCAGGTGTGAC-1_MS411      MS411\n",
       "CATACTTTCATTACGG-1_MS411      MS411\n",
       "CACGAATGTCTCTCCA-1_MS411      MS411\n",
       "AACACACAGTAGAATC-1_MS411      MS411\n",
       "                              ...  \n",
       "TCCGTGTGTCAGTCTA-1_MS549H    MS549H\n",
       "TGGGCTGTCCATATGG-1_MS549H    MS549H\n",
       "GAGTGAGTCGTAGGAG-1_MS549H    MS549H\n",
       "TGAGGGATCCGTCAAA-1_MS549H    MS549H\n",
       "CGTGCTTAGGCATCGA-1_MS549H    MS549H\n",
       "Name: sample_id, Length: 75555, dtype: category\n",
       "Categories (11, object): ['MS411', 'MS466', 'MS497T', 'CO74', ..., 'MS497I', 'CO85', 'CO40', 'MS549H']"
      ]
     },
     "execution_count": 10,
     "metadata": {},
     "output_type": "execute_result"
    }
   ],
   "source": [
    "adata_raw.obs[sample_id]"
   ]
  },
  {
   "cell_type": "code",
   "execution_count": 11,
   "metadata": {},
   "outputs": [
    {
     "data": {
      "text/plain": [
       "matrix([[0, 0, 0, 0, 0, 0],\n",
       "        [0, 0, 0, 0, 0, 0],\n",
       "        [0, 0, 0, 0, 0, 0],\n",
       "        [0, 0, 0, 0, 0, 0],\n",
       "        [0, 1, 0, 0, 0, 0],\n",
       "        [0, 0, 0, 0, 0, 1]], dtype=uint32)"
      ]
     },
     "execution_count": 11,
     "metadata": {},
     "output_type": "execute_result"
    }
   ],
   "source": [
    "# not that these are the corrected counts from cellbender\n",
    "ms_adata_raw.X[0:6, 0:6].todense()"
   ]
  },
  {
   "cell_type": "code",
   "execution_count": null,
   "metadata": {},
   "outputs": [],
   "source": [
    "# coarse to integers\n",
    "ms_adata_raw.X = np.round(ms_adata_raw.X).astype(int)\n",
    "ctrl_adata_raw.X = np.round(ctrl_adata_raw.X).astype(int)\n",
    "ms_adata_raw.X[0:12, 0:12].todense()"
   ]
  },
  {
   "cell_type": "code",
   "execution_count": null,
   "metadata": {},
   "outputs": [],
   "source": [
    "adata_raw.obs[label_name].unique()"
   ]
  },
  {
   "cell_type": "code",
   "execution_count": null,
   "metadata": {},
   "outputs": [],
   "source": [
    "# subset for testing\n",
    "rng = default_rng(seed=42)\n",
    "\n",
    "t_cell_ids = []\n",
    "\n",
    "for cell_type in adata_raw.obs[label_name].unique():\n",
    "    \n",
    "    # Select cells from a cell type\n",
    "    msk = adata_raw.obs[label_name] == cell_type\n",
    "    cell_ids = adata_raw.obs.index[msk]\n",
    "    \n",
    "    n_cells = int(np.ceil(perc_cells * len(cell_ids)))\n",
    "    \n",
    "    cell_ids = rng.choice(cell_ids, size=n_cells, replace=False)\n",
    "    t_cell_ids.extend(cell_ids)\n",
    "    \n",
    "adata_raw = adata_raw[t_cell_ids, :]"
   ]
  },
  {
   "cell_type": "code",
   "execution_count": null,
   "metadata": {},
   "outputs": [],
   "source": [
    "adata_raw"
   ]
  },
  {
   "cell_type": "code",
   "execution_count": null,
   "metadata": {},
   "outputs": [],
   "source": [
    "selected = filter_genes(adata_raw, cell_count_cutoff=5, cell_percentage_cutoff2=0.03, nonz_mean_cutoff=1.12)\n",
    "adata_raw = adata_raw[:, selected].copy()"
   ]
  },
  {
   "cell_type": "code",
   "execution_count": null,
   "metadata": {},
   "outputs": [],
   "source": [
    "adata_raw"
   ]
  },
  {
   "cell_type": "code",
   "execution_count": null,
   "metadata": {},
   "outputs": [],
   "source": [
    "adata_raw.obs.cell_type.value_counts()"
   ]
  },
  {
   "cell_type": "code",
   "execution_count": null,
   "metadata": {},
   "outputs": [],
   "source": [
    "# get cell types for which the count is below 10 in adata_raw.obs.cell_type.value_counts()\n",
    "ct_to_remove = adata_raw.obs.cell_type.value_counts().index[adata_raw.obs.cell_type.value_counts() < 10]\n",
    "print(ct_to_remove)\n",
    "\n",
    "# subset the adata object\n",
    "adata_raw = adata_raw[~adata_raw.obs.cell_type.isin(ct_to_remove), :]"
   ]
  },
  {
   "cell_type": "code",
   "execution_count": null,
   "metadata": {},
   "outputs": [],
   "source": [
    "cell2location.models.RegressionModel.setup_anndata(adata=adata_raw,\n",
    "                              # 10X reaction / sample / batch\n",
    "                              batch_key=sample_id,\n",
    "                              # cell type, covariate used for constructing signatures\n",
    "                              labels_key=label_name\n",
    ")"
   ]
  },
  {
   "cell_type": "code",
   "execution_count": null,
   "metadata": {},
   "outputs": [],
   "source": [
    "mod = RegressionModel(adata_raw)\n",
    "mod.view_anndata_setup()"
   ]
  },
  {
   "cell_type": "code",
   "execution_count": null,
   "metadata": {},
   "outputs": [],
   "source": [
    "mod.train(max_epochs=250, batch_size=2500, train_size=1, lr=0.002, use_gpu=True)"
   ]
  },
  {
   "cell_type": "code",
   "execution_count": null,
   "metadata": {},
   "outputs": [],
   "source": [
    "import matplotlib.pyplot as plt\n",
    "mod.plot_history(20)"
   ]
  },
  {
   "cell_type": "code",
   "execution_count": null,
   "metadata": {},
   "outputs": [],
   "source": []
  }
 ],
 "metadata": {
  "kernelspec": {
   "display_name": "torch_env2",
   "language": "python",
   "name": "python3"
  },
  "language_info": {
   "codemirror_mode": {
    "name": "ipython",
    "version": 3
   },
   "file_extension": ".py",
   "mimetype": "text/x-python",
   "name": "python",
   "nbconvert_exporter": "python",
   "pygments_lexer": "ipython3",
   "version": "3.9.12"
  },
  "orig_nbformat": 4
 },
 "nbformat": 4,
 "nbformat_minor": 2
}
