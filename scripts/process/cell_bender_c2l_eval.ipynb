{
 "cells": [
  {
   "cell_type": "code",
   "execution_count": 1,
   "metadata": {},
   "outputs": [],
   "source": [
    "import pandas as pd\n",
    "import numpy as np\n",
    "import scanpy as sc\n",
    "import os\n",
    "from anndata import AnnData\n",
    "import matplotlib.pyplot as plt\n",
    "import seaborn as sns\n",
    "import scipy as sp"
   ]
  },
  {
   "cell_type": "code",
   "execution_count": 4,
   "metadata": {},
   "outputs": [],
   "source": [
    "#current_folder = Path(__file__).parent\n",
    "current_folder = globals()['_dh'][0]\n",
    "cellbender_dir = current_folder / \"..\" / \"..\" / \"data\" / \"cellbender_out\"\n",
    "#visium_dir = current_folder / \"..\" / \"..\" / \"data\" / \"uscsc_dump\"\n",
    "#visium_dir = current_folder / \"..\" / \"..\" / \"data\" / \"raw\" / \"visium\"\n",
    "#model_dir = current_folder / \"..\" / \"..\" / \"data\" / \"c2l_models\"\n",
    "c2l_out = current_folder / \"..\" / \"..\" / \"data\" / \"c2l_out\""
   ]
  },
  {
   "cell_type": "code",
   "execution_count": 9,
   "metadata": {},
   "outputs": [
    {
     "data": {
      "text/plain": [
       "['MS197D', 'MS411']"
      ]
     },
     "execution_count": 9,
     "metadata": {},
     "output_type": "execute_result"
    }
   ],
   "source": [
    "# samples are only valid if \"bar.csv\" is present in the folder\n",
    "visium_samples = [f for f in os.listdir(c2l_out) if not f.startswith(\".\") and (c2l_out / f / \"cell_abunds.csv\").exists()]\n",
    "visium_samples"
   ]
  },
  {
   "cell_type": "code",
   "execution_count": 13,
   "metadata": {},
   "outputs": [
    {
     "data": {
      "text/plain": [
       "['MS411',\n",
       " 'MS466',\n",
       " 'MS497T',\n",
       " 'CO74',\n",
       " 'MS377I',\n",
       " 'MS377T',\n",
       " 'MS549T',\n",
       " 'MS497I',\n",
       " 'CO85',\n",
       " 'CO40',\n",
       " 'MS549H']"
      ]
     },
     "execution_count": 13,
     "metadata": {},
     "output_type": "execute_result"
    }
   ],
   "source": [
    "sn_samples = os.listdir(cellbender_dir)\n",
    "sn_samples"
   ]
  },
  {
   "cell_type": "code",
   "execution_count": 12,
   "metadata": {},
   "outputs": [
    {
     "data": {
      "text/plain": [
       "array(['MS411'], dtype='<U6')"
      ]
     },
     "execution_count": 12,
     "metadata": {},
     "output_type": "execute_result"
    }
   ],
   "source": [
    "both_samples = np.intersect1d(visium_samples, sn_samples)\n",
    "both_samples"
   ]
  },
  {
   "cell_type": "code",
   "execution_count": 15,
   "metadata": {},
   "outputs": [
    {
     "data": {
      "text/plain": [
       "'MS411'"
      ]
     },
     "execution_count": 15,
     "metadata": {},
     "output_type": "execute_result"
    }
   ],
   "source": [
    "smp = both_samples[0]\n",
    "smp"
   ]
  },
  {
   "cell_type": "code",
   "execution_count": 19,
   "metadata": {},
   "outputs": [],
   "source": [
    "cell_props = pd.read_csv(c2l_out / smp / \"cell_props.csv\", index_col=0)\n",
    "cell_abunds = pd.read_csv(c2l_out / smp / \"cell_abunds.csv\", index_col=0)"
   ]
  },
  {
   "cell_type": "code",
   "execution_count": 22,
   "metadata": {},
   "outputs": [],
   "source": [
    "sn_adata = sc.read_h5ad(cellbender_dir / smp / \"cell_bender_matrix_filtered_qc_annotated.h5ad\")"
   ]
  },
  {
   "cell_type": "code",
   "execution_count": null,
   "metadata": {},
   "outputs": [],
   "source": []
  },
  {
   "cell_type": "code",
   "execution_count": null,
   "metadata": {},
   "outputs": [],
   "source": []
  },
  {
   "cell_type": "code",
   "execution_count": null,
   "metadata": {},
   "outputs": [],
   "source": []
  }
 ],
 "metadata": {
  "kernelspec": {
   "display_name": "torch_env2",
   "language": "python",
   "name": "python3"
  },
  "language_info": {
   "codemirror_mode": {
    "name": "ipython",
    "version": 3
   },
   "file_extension": ".py",
   "mimetype": "text/x-python",
   "name": "python",
   "nbconvert_exporter": "python",
   "pygments_lexer": "ipython3",
   "version": "3.9.12"
  },
  "orig_nbformat": 4
 },
 "nbformat": 4,
 "nbformat_minor": 2
}
