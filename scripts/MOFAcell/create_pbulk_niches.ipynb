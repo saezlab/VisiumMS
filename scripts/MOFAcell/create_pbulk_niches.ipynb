{
 "cells": [
  {
   "cell_type": "code",
   "execution_count": 7,
   "metadata": {},
   "outputs": [
    {
     "name": "stderr",
     "output_type": "stream",
     "text": [
      "OMP: Info #276: omp_set_nested routine deprecated, please use omp_set_max_active_levels instead.\n"
     ]
    }
   ],
   "source": [
    "import scanpy as sc\n",
    "import anndata as ad\n",
    "import pandas as pd\n",
    "import numpy as np\n",
    "import decoupler as dc"
   ]
  },
  {
   "cell_type": "code",
   "execution_count": 5,
   "metadata": {},
   "outputs": [],
   "source": [
    "output_pb = \"./submission/data/MOFAniche_pb_data.csv\"\n",
    "output_coldat = \"./submission/data/MOFAniche_pb_coldata.csv\""
   ]
  },
  {
   "cell_type": "code",
   "execution_count": 3,
   "metadata": {},
   "outputs": [],
   "source": [
    "meta = pd.read_csv('/Volumes/sd22b002/guest/VisiumMS/config/meta.csv')\n",
    "vs_samples = meta[~meta['Batch vs'].isnull()]['Sample id'].values.astype('U')\n",
    "\n",
    "# Process hallmarks and abunds\n",
    "adata = []\n",
    "for sample_id in vs_samples:\n",
    "    slide = sc.read_h5ad('/Volumes/sd22b002/guest/VisiumMS/data/prc/vs/{0}/adata.h5ad'.format(sample_id))\n",
    "    slide.obs['niches'] = pd.read_csv('/Volumes/sd22b002/guest/VisiumMS/data/prc/vs/{0}/niches.csv'.format(sample_id), index_col=0)\n",
    "    slide.obs_names = [sample_id + '_' + i for i in slide.obs_names]\n",
    "    slide = slide[~slide.obs['areas'].isnull()].copy()\n",
    "    adata.append(slide)\n",
    "adata = ad.concat(adata, join='outer')"
   ]
  },
  {
   "cell_type": "code",
   "execution_count": 9,
   "metadata": {},
   "outputs": [],
   "source": [
    "padata = dc.get_pseudobulk(adata, \n",
    "                           sample_col='Sample id', \n",
    "                           groups_col='niches', \n",
    "                           layer='counts', \n",
    "                           min_prop=0, \n",
    "                           min_smpls=0,\n",
    "                           mode='sum')\n",
    "\n",
    "pb_dat = pd.DataFrame(padata.X)\n",
    "pb_dat.columns = padata.var.index.values\n",
    "pb_dat.index = padata.obs.index.values\n",
    "pb_dat.to_csv(output_pb)"
   ]
  },
  {
   "cell_type": "code",
   "execution_count": 10,
   "metadata": {},
   "outputs": [],
   "source": [
    "pb_coldata = padata.obs.copy()\n",
    "pb_coldata[\"colname\"] = pb_coldata.index.values\n",
    "pb_coldata.to_csv(output_coldat)"
   ]
  },
  {
   "cell_type": "code",
   "execution_count": null,
   "metadata": {},
   "outputs": [],
   "source": []
  }
 ],
 "metadata": {
  "kernelspec": {
   "display_name": "sc_base_kernel",
   "language": "python",
   "name": "sc_base_kernel"
  },
  "language_info": {
   "codemirror_mode": {
    "name": "ipython",
    "version": 3
   },
   "file_extension": ".py",
   "mimetype": "text/x-python",
   "name": "python",
   "nbconvert_exporter": "python",
   "pygments_lexer": "ipython3",
   "version": "3.11.4"
  }
 },
 "nbformat": 4,
 "nbformat_minor": 2
}
